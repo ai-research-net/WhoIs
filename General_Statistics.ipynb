{
 "cells": [
  {
   "cell_type": "code",
   "execution_count": 1,
   "id": "literary-globe",
   "metadata": {},
   "outputs": [],
   "source": [
    "import numpy as np \n",
    "import pickle\n",
    "import sqlite3\n",
    "import re\n",
    "import progressbar"
   ]
  },
  {
   "cell_type": "code",
   "execution_count": 2,
   "id": "dying-stopping",
   "metadata": {},
   "outputs": [],
   "source": [
    "db_name = 'Source/dblp.db'\n",
    "conn = sqlite3.connect(db_name) \n",
    "\n",
    "def dict_factory(cursor, row):\n",
    "    d = {}\n",
    "    for idx, col in enumerate(cursor.description):\n",
    "        d[col[0]] = row[idx]\n",
    "    return d\n",
    "\n",
    "\n",
    "conn.row_factory = dict_factory\n",
    "query = \"SELECT * FROM reference\"\n",
    "cursor = conn.cursor()\n",
    "cursor.execute(query)\n",
    "records= cursor.fetchall()\n",
    "cursor.close()\n",
    "if (conn):\n",
    "    conn.close()"
   ]
  },
  {
   "cell_type": "code",
   "execution_count": null,
   "id": "popular-porter",
   "metadata": {},
   "outputs": [],
   "source": [
    "ref_id=[]\n",
    "for record in records:\n",
    "    ref_id.append(int(record['reference_id']))"
   ]
  },
  {
   "cell_type": "code",
   "execution_count": null,
   "id": "recent-nirvana",
   "metadata": {},
   "outputs": [],
   "source": [
    "tmp=np.unique(np.array(ref_id))\n",
    "print ('Number of records = '+str(len(tmp)))"
   ]
  },
  {
   "cell_type": "code",
   "execution_count": null,
   "id": "romantic-kentucky",
   "metadata": {},
   "outputs": [],
   "source": [
    "with open('Source/index2auth.pickle','rb') as file:\n",
    "    index2auth=pickle.load(file)"
   ]
  },
  {
   "cell_type": "code",
   "execution_count": null,
   "id": "willing-census",
   "metadata": {},
   "outputs": [],
   "source": [
    "tmp=list(tuple(index2auth))\n",
    "tmp=np.unique(np.array(tmp))\n",
    "print ('Number of authors = '+str(len(tmp)))"
   ]
  },
  {
   "cell_type": "code",
   "execution_count": 3,
   "id": "killing-coaching",
   "metadata": {},
   "outputs": [],
   "source": [
    "with open('Source/auth2index.pickle','rb') as file:\n",
    "    auth2index=pickle.load(file)"
   ]
  },
  {
   "cell_type": "code",
   "execution_count": null,
   "id": "undefined-circuit",
   "metadata": {},
   "outputs": [
    {
     "name": "stderr",
     "output_type": "stream",
     "text": [
      "[====                                                                    ]   6%\r"
     ]
    }
   ],
   "source": [
    "x=list(auth2index)\n",
    "\n",
    "# progress bar\n",
    "bar = progressbar.ProgressBar(maxval=len(x), \\\n",
    "    widgets=[progressbar.Bar('=', '[', ']'), ' ', progressbar.Percentage()])\n",
    "bar.start()\n",
    "\n",
    "name=[]\n",
    "for i in range(len(x)):\n",
    "    bar.update(i+1)\n",
    "    n=x[i]\n",
    "    tmp=re.sub('[0-9\\\"\\.\\(\\)\\-]','',n)\n",
    "    tmp=tmp.split()\n",
    "    tmp=' '.join(tmp)\n",
    "    if tmp not in name:\n",
    "        name.append(tmp)\n",
    "bar.finish()  "
   ]
  },
  {
   "cell_type": "code",
   "execution_count": 9,
   "id": "neutral-heritage",
   "metadata": {},
   "outputs": [
    {
     "name": "stdout",
     "output_type": "stream",
     "text": [
      "Number of unique names = 2613577\n"
     ]
    }
   ],
   "source": [
    "print ('Number of unique names = '+str(len(name)))\n",
    "with open ('author_names.pickle' , 'wb') as file:\n",
    "    pickle.dump(name, file, protocol=pickle.HIGHEST_PROTOCOL)"
   ]
  },
  {
   "cell_type": "code",
   "execution_count": null,
   "id": "raising-watson",
   "metadata": {},
   "outputs": [
    {
     "name": "stderr",
     "output_type": "stream",
     "text": [
      "[====================                                                    ]  28%\r"
     ]
    }
   ],
   "source": [
    "nn=[]\n",
    "# progress bar\n",
    "bar = progressbar.ProgressBar(maxval=len(name), \\\n",
    "    widgets=[progressbar.Bar('=', '[', ']'), ' ', progressbar.Percentage()])\n",
    "bar.start()\n",
    "\n",
    "for i in range(len(name)):\n",
    "    bar.update(i+1)\n",
    "    a=name[i]\n",
    "    tmp=re.sub('[\\\"\\']','',a)\n",
    "    if tmp not in nn:\n",
    "        nn.append(tmp)"
   ]
  },
  {
   "cell_type": "code",
   "execution_count": 12,
   "id": "hairy-split",
   "metadata": {},
   "outputs": [
    {
     "data": {
      "text/plain": [
       "'Johann Sebastian Rudolph'"
      ]
     },
     "execution_count": 12,
     "metadata": {},
     "output_type": "execute_result"
    }
   ],
   "source": [
    "name[0]"
   ]
  },
  {
   "cell_type": "code",
   "execution_count": null,
   "id": "equipped-reduction",
   "metadata": {},
   "outputs": [],
   "source": [
    "ref_id=[]\n",
    "author=[]\n",
    "for record in records: \n",
    "    ref_id.append(int(record['reference_id']))\n",
    "    author.append(auth2index[record['target_author']])"
   ]
  },
  {
   "cell_type": "code",
   "execution_count": null,
   "id": "sunset-redhead",
   "metadata": {},
   "outputs": [],
   "source": [
    "tmp=np.unique(np.array(ref_id))\n",
    "author=np.array(author)"
   ]
  },
  {
   "cell_type": "code",
   "execution_count": null,
   "id": "lovely-diesel",
   "metadata": {},
   "outputs": [],
   "source": [
    "# progress bar\n",
    "bar = progressbar.ProgressBar(maxval=len(tmp), \\\n",
    "    widgets=[progressbar.Bar('=', '[', ']'), ' ', progressbar.Percentage()])\n",
    "bar.start()\n",
    "\n",
    "n=0\n",
    "for i in range(len(tmp)):\n",
    "    bar.update(i+1)\n",
    "    t=tmp[i]\n",
    "    x=np.where(author==t)[0]\n",
    "    if len(x)==1:\n",
    "        n+=1\n",
    "        print (i)\n",
    "bar.finish()"
   ]
  },
  {
   "cell_type": "code",
   "execution_count": null,
   "id": "palestinian-commerce",
   "metadata": {},
   "outputs": [],
   "source": [
    "print ('Number of records with a single author = '+str(n))"
   ]
  }
 ],
 "metadata": {
  "kernelspec": {
   "display_name": "Python 3",
   "language": "python",
   "name": "python3"
  },
  "language_info": {
   "codemirror_mode": {
    "name": "ipython",
    "version": 3
   },
   "file_extension": ".py",
   "mimetype": "text/x-python",
   "name": "python",
   "nbconvert_exporter": "python",
   "pygments_lexer": "ipython3",
   "version": "3.8.5"
  }
 },
 "nbformat": 4,
 "nbformat_minor": 5
}
