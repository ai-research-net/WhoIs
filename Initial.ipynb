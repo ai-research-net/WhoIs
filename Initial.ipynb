{
 "cells": [
  {
   "cell_type": "code",
   "execution_count": 1,
   "metadata": {},
   "outputs": [],
   "source": [
    "import sqlite3\n",
    "import pandas as pd\n",
    "import re\n",
    "import pickle\n",
    "import progressbar"
   ]
  },
  {
   "cell_type": "code",
   "execution_count": 2,
   "metadata": {},
   "outputs": [],
   "source": [
    "def get_abbv(name):\n",
    "    name=name.split()\n",
    "    return [name[i][0] for i in range(len(name)-1)]+[name[-1]]"
   ]
  },
  {
   "cell_type": "code",
   "execution_count": 4,
   "metadata": {},
   "outputs": [
    {
     "name": "stderr",
     "output_type": "stream",
     "text": [
      "[========================================================================] 100%\n"
     ]
    }
   ],
   "source": [
    "#generate all possible name acronyms. E.g. Stefan Decker -> S Decker  \n",
    "\n",
    "with open ('Source/index2auth.pickle' , 'rb') as file:\n",
    "    authors=pickle.load(file)\n",
    "\n",
    "# progress bar\n",
    "bar = progressbar.ProgressBar(maxval=len(authors), \\\n",
    "    widgets=[progressbar.Bar('=', '[', ']'), ' ', progressbar.Percentage()])\n",
    "\n",
    "author_abbvs=[]\n",
    "bar.start()\n",
    "for i in authors:\n",
    "    bar.update(i+1)\n",
    "    author = authors[i]\n",
    "    author_name = re.sub('[\\(\\)\\',\",0-9]', '', author)\n",
    "    author_abbrv_list = get_abbv(author_name)\n",
    "    author_abbrv = ' '.join(author_abbrv_list)\n",
    "    author_abbvs.append(author_abbrv)\n",
    "bar.finish()"
   ]
  },
  {
   "cell_type": "code",
   "execution_count": null,
   "metadata": {},
   "outputs": [],
   "source": [
    "# Save the name acrnyms in a pickle file\n",
    "with open ('author_abbvs.pickle' , 'wb') as file:\n",
    "    pickle.dump(author_abbvs, file, protocol=pickle.HIGHEST_PROTOCOL)"
   ]
  },
  {
   "cell_type": "code",
   "execution_count": 7,
   "metadata": {},
   "outputs": [],
   "source": [
    "unique = list(dict.fromkeys(author_abbvs))"
   ]
  },
  {
   "cell_type": "code",
   "execution_count": null,
   "metadata": {},
   "outputs": [
    {
     "name": "stderr",
     "output_type": "stream",
     "text": [
      "[==                                                                      ]   3%"
     ]
    }
   ],
   "source": [
    "# progress bar\n",
    "bar = progressbar.ProgressBar(maxval=len(author_abbvs), \\\n",
    "    widgets=[progressbar.Bar('=', '[', ']'), ' ', progressbar.Percentage()])\n",
    "bar.start()\n",
    "\n",
    "x=[[] for i in range(len(unique))]\n",
    "for i in range (len(author_abbvs)):\n",
    "    bar.update(i+1)\n",
    "    author_abbv= author_abbvs[i]\n",
    "    idx=unique.index(author_abbv)\n",
    "    x[idx].append(i)\n",
    "bar.finish()   \n",
    "    "
   ]
  },
  {
   "cell_type": "code",
   "execution_count": null,
   "metadata": {},
   "outputs": [],
   "source": [
    "# progress bar\n",
    "bar = progressbar.ProgressBar(maxval=len(unique), \\\n",
    "    widgets=[progressbar.Bar('=', '[', ']'), ' ', progressbar.Percentage()])\n",
    "bar.start()\n",
    "\n",
    "for i in range (len(unique)):\n",
    "    bar.update(i+1)\n",
    "    name=str(len(x[i]))+'_'+unique[i]\n",
    "    tmp=[unique[i]]+x[i]\n",
    "    with open(\"Data/\"+name+\".pickle\", \"wb\") as file: \n",
    "        pickle.dump(tmp, file, protocol=pickle.HIGHEST_PROTOCOL)\n",
    "bar.finish()    "
   ]
  },
  {
   "cell_type": "code",
   "execution_count": null,
   "metadata": {},
   "outputs": [],
   "source": [
    "with open ('unique.pickle' , 'wb') as file:\n",
    "    pickle.dump(unique, file, protocol=pickle.HIGHEST_PROTOCOL)"
   ]
  },
  {
   "cell_type": "code",
   "execution_count": null,
   "metadata": {},
   "outputs": [],
   "source": [
    "with open ('indices.pickle' , 'wb') as file:\n",
    "    pickle.dump(x, file, protocol=pickle.HIGHEST_PROTOCOL)"
   ]
  },
  {
   "cell_type": "code",
   "execution_count": null,
   "metadata": {},
   "outputs": [],
   "source": [
    "len(unique)"
   ]
  },
  {
   "cell_type": "code",
   "execution_count": null,
   "metadata": {},
   "outputs": [],
   "source": [
    "!ls Data"
   ]
  },
  {
   "cell_type": "code",
   "execution_count": null,
   "metadata": {},
   "outputs": [],
   "source": []
  }
 ],
 "metadata": {
  "kernelspec": {
   "display_name": "Python 3",
   "language": "python",
   "name": "python3"
  },
  "language_info": {
   "codemirror_mode": {
    "name": "ipython",
    "version": 3
   },
   "file_extension": ".py",
   "mimetype": "text/x-python",
   "name": "python",
   "nbconvert_exporter": "python",
   "pygments_lexer": "ipython3",
   "version": "3.8.10"
  }
 },
 "nbformat": 4,
 "nbformat_minor": 4
}
