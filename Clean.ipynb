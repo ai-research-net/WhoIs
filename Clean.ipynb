{
 "cells": [
  {
   "cell_type": "code",
   "execution_count": 4,
   "metadata": {},
   "outputs": [],
   "source": [
    "import shutil\n",
    "import os\n",
    "import re"
   ]
  },
  {
   "cell_type": "markdown",
   "metadata": {},
   "source": [
    "# Specific Model"
   ]
  },
  {
   "cell_type": "code",
   "execution_count": 5,
   "metadata": {},
   "outputs": [],
   "source": [
    "model_version=2023\n"
   ]
  },
  {
   "cell_type": "code",
   "execution_count": 6,
   "metadata": {},
   "outputs": [],
   "source": [
    "files=os.listdir('Training/Miscs')\n",
    "for file in files:\n",
    "    tmp=re.findall(str(model_version),file)\n",
    "    if bool(tmp):\n",
    "        os.remove(\"Training/Miscs/\"+file)\n",
    "        \n",
    "files=os.listdir('Models')\n",
    "for file in files:\n",
    "    tmp=re.findall(str(model_version),file)\n",
    "    if bool(tmp):\n",
    "        os.remove(\"Models/\"+file)\n",
    "        \n",
    "files=os.listdir('Training/Data')\n",
    "for file in files:\n",
    "    tmp=re.findall(str(model_version),file)\n",
    "    if bool(tmp):\n",
    "        os.remove(\"Training/Data/\"+file)\n",
    "        \n",
    "try:\n",
    "    os.remove(\"Training/Tasks/task_\"+str(model_version)+\".pickle\")\n",
    "except:\n",
    "    pass\n",
    "\n",
    "try:\n",
    "    os.remove(\"Training/Tasks/Running/task_\"+str(model_version)+\".pickle\")\n",
    "except:\n",
    "    pass\n",
    "\n",
    "\n",
    "shutil.rmtree(\"Training/tdata/\"+str(model_version), ignore_errors=True)"
   ]
  },
  {
   "cell_type": "markdown",
   "metadata": {},
   "source": [
    "# All models"
   ]
  }
 ],
 "metadata": {
  "kernelspec": {
   "display_name": "Python 3",
   "language": "python",
   "name": "python3"
  },
  "language_info": {
   "codemirror_mode": {
    "name": "ipython",
    "version": 3
   },
   "file_extension": ".py",
   "mimetype": "text/x-python",
   "name": "python",
   "nbconvert_exporter": "python",
   "pygments_lexer": "ipython3",
   "version": "3.8.10"
  }
 },
 "nbformat": 4,
 "nbformat_minor": 4
}
